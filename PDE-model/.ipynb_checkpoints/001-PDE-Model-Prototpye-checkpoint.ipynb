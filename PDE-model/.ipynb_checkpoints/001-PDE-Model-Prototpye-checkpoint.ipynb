{
 "cells": [
  {
   "cell_type": "code",
   "execution_count": 2,
   "id": "455b146e",
   "metadata": {},
   "outputs": [],
   "source": [
    "import numpy as np\n",
    "import matplotlib.pyplot as plt\n",
    "from matplotlib.animation import FFMpegWriter\n",
    "from matplotlib.colors import LinearSegmentedColormap\n",
    "\n",
    "plt.rcParams['animation.ffmpeg_path']='/mnt/d/ffmpeg/bin/ffmpeg.exe'"
   ]
  },
  {
   "cell_type": "markdown",
   "id": "e3c3c9e4",
   "metadata": {},
   "source": [
    "## Model of HH disease\n",
    "\n",
    "$$ \\frac{\\partial H}{\\partial t} = -c\\frac{\\partial H}{\\partial y}+\\lambda H(H-a)(1-H)+D \\Delta H $$"
   ]
  },
  {
   "cell_type": "code",
   "execution_count": 3,
   "id": "7ee3bb6f",
   "metadata": {},
   "outputs": [],
   "source": [
    "T=1000\n",
    "dt=0.1\n",
    "dx=0.1\n",
    "\n",
    "a=0.5\n",
    "c=0.1\n",
    "lam=2\n",
    "D=0.5\n"
   ]
  },
  {
   "cell_type": "code",
   "execution_count": 4,
   "id": "d538aebd",
   "metadata": {},
   "outputs": [],
   "source": [
    "def update_H(H):\n",
    "    \n",
    "    advection=c*(H[1:100,1:99]-H[0:99,1:99])/dx\n",
    "    growth=lam*H[0:99,1:99]*(H[0:99,1:99]-a)*(1-H[0:99,1:99])\n",
    "    dispersal=D*(H[0:99,0:98]-2*H[0:99,1:99]+H[0:99,2:100])/(dx*2) # currently only in x direction\n",
    "    \n",
    "    dHdt=advection +growth +dispersal\n",
    "    \n",
    "    dH=dHdt*dt\n",
    "    \n",
    "    H[0:99,1:99]=H[0:99,1:99]+dH\n",
    "    \n",
    "    return H\n",
    "    "
   ]
  },
  {
   "cell_type": "code",
   "execution_count": null,
   "id": "cfb1b96a",
   "metadata": {},
   "outputs": [],
   "source": [
    "H=np.zeros([100,100])\n",
    "\n",
    "#initial condition\n",
    "H[99,:]=np.random.uniform(0,1,100)*0.6+0.4\n",
    "\n",
    "fig=plt.figure()\n",
    "custom_cmap=LinearSegmentedColormap.from_list('custom',['white','pink'])\n",
    "l =plt.imshow(H,cmap=custom_cmap)\n",
    "cbar=plt.colorbar(label='Healthy Cell Density')\n",
    "\n",
    "\n",
    "\n",
    "metadata = dict(title='Movie', artist='Jack')\n",
    "writer = FFMpegWriter(fps=50,metadata=metadata)\n",
    "\n",
    "\n",
    "with writer.saving(fig,'test.gif',100):\n",
    "    for i in range(1,T):\n",
    "        \n",
    "        H=update_H(H)\n",
    "        \n",
    "        if i==350:\n",
    "            H[99,20:80]=np.random.uniform(0,1,60)*0.4\n",
    "            \n",
    "        if i==420:\n",
    "            H[99,20:80]=np.random.uniform(0,1,60)*0.6+0.4\n",
    "        \n",
    "        l.set_data(H)\n",
    "        writer.grab_frame()"
   ]
  }
 ],
 "metadata": {
  "kernelspec": {
   "display_name": "Python 3 (ipykernel)",
   "language": "python",
   "name": "python3"
  },
  "language_info": {
   "codemirror_mode": {
    "name": "ipython",
    "version": 3
   },
   "file_extension": ".py",
   "mimetype": "text/x-python",
   "name": "python",
   "nbconvert_exporter": "python",
   "pygments_lexer": "ipython3",
   "version": "3.10.9"
  }
 },
 "nbformat": 4,
 "nbformat_minor": 5
}
