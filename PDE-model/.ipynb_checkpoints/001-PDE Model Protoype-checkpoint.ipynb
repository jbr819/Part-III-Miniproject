{
 "cells": [
  {
   "cell_type": "code",
   "execution_count": 8,
   "id": "455b146e",
   "metadata": {},
   "outputs": [],
   "source": [
    "import numpy as np\n",
    "import matplotlib.pyplot as plt\n",
    "import time\n",
    "from matplotlib.animation import FFMpegWriter\n",
    "\n",
    "plt.rcParams['animation.ffmpeg_path']='/mnt/d/ffmpeg/bin/ffmpeg.exe'"
   ]
  },
  {
   "cell_type": "markdown",
   "id": "e3c3c9e4",
   "metadata": {},
   "source": [
    "## Model of HH disease\n",
    "\n",
    "$$ \\frac{\\partial H}{\\partial t} = -c\\frac{\\partial H}{\\partial y}+\\lambda H(H-a)(1-H)+D \\Delta H $$"
   ]
  },
  {
   "cell_type": "code",
   "execution_count": 9,
   "id": "7ee3bb6f",
   "metadata": {},
   "outputs": [],
   "source": [
    "T=2000\n",
    "dt=0.1\n",
    "dx=0.1\n",
    "\n",
    "a=0.5\n",
    "c=0.1\n",
    "lam=2\n",
    "D=0.5\n"
   ]
  },
  {
   "cell_type": "code",
   "execution_count": 10,
   "id": "5a7dacab",
   "metadata": {},
   "outputs": [],
   "source": [
    "def update_H(H):\n",
    "    \n",
    "    advection=c*(H[1:100,1:99]-H[0:99,1:99])/dx\n",
    "    growth=lam*H[0:99,1:99]*(H[0:99,1:99]-a)*(1-H[0:99,1:99])\n",
    "    dispersal=D*(H[0:99,0:98]-2*H[0:99,1:99]+H[0:99,2:100])/(dx*2)\n",
    "    \n",
    "    dHdt=advection +growth +dispersal\n",
    "    \n",
    "    dH=dHdt*dt\n",
    "    \n",
    "    H[0:99,1:99]=H[0:99,1:99]+dH\n",
    "    \n",
    "    return H\n",
    "    "
   ]
  },
  {
   "cell_type": "code",
   "execution_count": 11,
   "id": "cfb1b96a",
   "metadata": {},
   "outputs": [
    {
     "ename": "ValueError",
     "evalue": "could not broadcast input array from shape (100,) into shape (60,)",
     "output_type": "error",
     "traceback": [
      "\u001b[0;31m---------------------------------------------------------------------------\u001b[0m",
      "\u001b[0;31mValueError\u001b[0m                                Traceback (most recent call last)",
      "Cell \u001b[0;32mIn[11], line 24\u001b[0m\n\u001b[1;32m     21\u001b[0m     H[\u001b[38;5;241m99\u001b[39m,\u001b[38;5;241m20\u001b[39m:\u001b[38;5;241m80\u001b[39m]\u001b[38;5;241m=\u001b[39mnp\u001b[38;5;241m.\u001b[39mrandom\u001b[38;5;241m.\u001b[39muniform(\u001b[38;5;241m0\u001b[39m,\u001b[38;5;241m1\u001b[39m,\u001b[38;5;241m60\u001b[39m)\u001b[38;5;241m*\u001b[39m\u001b[38;5;241m0.4\u001b[39m\n\u001b[1;32m     23\u001b[0m \u001b[38;5;28;01mif\u001b[39;00m i\u001b[38;5;241m==\u001b[39m\u001b[38;5;241m190\u001b[39m:\n\u001b[0;32m---> 24\u001b[0m     H[\u001b[38;5;241m99\u001b[39m,\u001b[38;5;241m20\u001b[39m:\u001b[38;5;241m80\u001b[39m]\u001b[38;5;241m=\u001b[39mnp\u001b[38;5;241m.\u001b[39mrandom\u001b[38;5;241m.\u001b[39muniform(\u001b[38;5;241m0\u001b[39m,\u001b[38;5;241m1\u001b[39m,\u001b[38;5;241m100\u001b[39m)\u001b[38;5;241m*\u001b[39m\u001b[38;5;241m0.6\u001b[39m\u001b[38;5;241m+\u001b[39m\u001b[38;5;241m0.4\u001b[39m\n\u001b[1;32m     26\u001b[0m l\u001b[38;5;241m.\u001b[39mset_data(H)\n\u001b[1;32m     27\u001b[0m writer\u001b[38;5;241m.\u001b[39mgrab_frame()\n",
      "\u001b[0;31mValueError\u001b[0m: could not broadcast input array from shape (100,) into shape (60,)"
     ]
    },
    {
     "data": {
      "image/png": "[encoded data removed]",
      "text/plain": [
       "<Figure size 640x480 with 2 Axes>"
      ]
     },
     "metadata": {},
     "output_type": "display_data"
    }
   ],
   "source": [
    "H=np.zeros([100,100])\n",
    "\n",
    "#initial condition\n",
    "H[99,:]=np.random.uniform(0,1,100)*0.6+0.4\n",
    "\n",
    "fig=plt.figure()\n",
    "l =plt.imshow(H)\n",
    "cbar=plt.colorbar(label='Health Cell Density')\n",
    "\n",
    "\n",
    "metadata = dict(title='Movie', artist='Jack')\n",
    "writer = FFMpegWriter(fps=50,metadata=metadata)\n",
    "\n",
    "\n",
    "with writer.saving(fig,'test.gif',100):\n",
    "    for i in range(1,T):\n",
    "        \n",
    "        H=update_H(H)\n",
    "        \n",
    "        if i==150:\n",
    "            H[99,20:80]=np.random.uniform(0,1,60)*0.4\n",
    "            \n",
    "        if i==190:\n",
    "            H[99,20:80]=np.random.uniform(0,1,60)*0.6+0.4\n",
    "        \n",
    "        l.set_data(H)\n",
    "        writer.grab_frame()"
   ]
  }
 ],
 "metadata": {
  "kernelspec": {
   "display_name": "Python 3 (ipykernel)",
   "language": "python",
   "name": "python3"
  },
  "language_info": {
   "codemirror_mode": {
    "name": "ipython",
    "version": 3
   },
   "file_extension": ".py",
   "mimetype": "text/x-python",
   "name": "python",
   "nbconvert_exporter": "python",
   "pygments_lexer": "ipython3",
   "version": "3.10.9"
  }
 },
 "nbformat": 4,
 "nbformat_minor": 5
}
